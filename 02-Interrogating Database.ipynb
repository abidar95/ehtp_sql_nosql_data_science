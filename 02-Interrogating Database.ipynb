{
 "nbformat": 4,
 "nbformat_minor": 2,
 "metadata": {
  "language_info": {
   "name": "python",
   "codemirror_mode": {
    "name": "ipython",
    "version": 3
   },
   "version": "3.7.6-final"
  },
  "orig_nbformat": 2,
  "file_extension": ".py",
  "mimetype": "text/x-python",
  "name": "python",
  "npconvert_exporter": "python",
  "pygments_lexer": "ipython3",
  "version": 3,
  "kernelspec": {
   "name": "python37664bit11faddc277304651ac73070c2cd97448",
   "display_name": "Python 3.7.6 64-bit"
  }
 },
 "cells": [
  {
   "cell_type": "markdown",
   "execution_count": null,
   "metadata": {},
   "outputs": [],
   "source": [
    "BD SQL & NOSQL Project\n",
    "======================\n",
    "### Project based on data from RGPH (recensement général de la population et de l’habitat) in 2014\n",
    "### DATA SOURCE: [RGPH Website](http://rgphentableaux.hcp.ma)"
   ]
  },
  {
   "cell_type": "markdown",
   "execution_count": null,
   "metadata": {},
   "outputs": [],
   "source": [
    "## Part 02: Interrogating MySQL Database"
   ]
  },
  {
   "cell_type": "code",
   "execution_count": 10,
   "metadata": {},
   "outputs": [],
   "source": [
    "# Import libraries\n",
    "import pymysql\n",
    "import pandas as pd\n",
    "pd.options.display.float_format = '{:,.2f}'.format"
   ]
  },
  {
   "cell_type": "code",
   "execution_count": 11,
   "metadata": {},
   "outputs": [],
   "source": [
    "#Database Connection\n",
    "DB_PARAMS = {\n",
    "    'host':'localhost',\n",
    "    'port':3306,\n",
    "    'user':'root',\n",
    "    'password':'ehtp',\n",
    "    'database':'ehtp_rgph',\n",
    "}\n",
    "mysql_cnx = pymysql.connect(**DB_PARAMS)\n"
   ]
  },
  {
   "cell_type": "code",
   "execution_count": 12,
   "metadata": {},
   "outputs": [
    {
     "data": {
      "text/html": "<div>\n<style scoped>\n    .dataframe tbody tr th:only-of-type {\n        vertical-align: middle;\n    }\n\n    .dataframe tbody tr th {\n        vertical-align: top;\n    }\n\n    .dataframe thead th {\n        text-align: right;\n    }\n</style>\n<table border=\"1\" class=\"dataframe\">\n  <thead>\n    <tr style=\"text-align: right;\">\n      <th></th>\n      <th>Pays</th>\n      <th>Population municipale</th>\n    </tr>\n  </thead>\n  <tbody>\n    <tr>\n      <th>0</th>\n      <td>maroc</td>\n      <td>34,737,845.00</td>\n    </tr>\n  </tbody>\n</table>\n</div>",
      "text/plain": "    Pays  Population municipale\n0  maroc          34,737,845.00"
     },
     "execution_count": 12,
     "metadata": {},
     "output_type": "execute_result"
    }
   ],
   "source": [
    "\n",
    "sql_query = \"\"\"\n",
    "    SELECT\n",
    "        pays.libelle AS 'Pays',\n",
    "        sum( observations_demographie.observation ) AS 'Population municipale' \n",
    "    FROM\n",
    "        observations_demographie\n",
    "        JOIN communes ON communes.code = observations_demographie.commune_code\n",
    "        JOIN provinces ON provinces.code = communes.province_code\n",
    "        JOIN regions ON regions.code = provinces.region_code\n",
    "        JOIN pays ON pays.code = regions.pays_code \n",
    "    WHERE\n",
    "        observations_demographie.indicateur LIKE '%population munici%' \n",
    "    GROUP BY\n",
    "        pays.libelle\n",
    "\"\"\"\n",
    "pd.read_sql(sql_query, mysql_cnx)"
   ]
  },
  {
   "cell_type": "code",
   "execution_count": 13,
   "metadata": {},
   "outputs": [
    {
     "data": {
      "text/html": "<div>\n<style scoped>\n    .dataframe tbody tr th:only-of-type {\n        vertical-align: middle;\n    }\n\n    .dataframe tbody tr th {\n        vertical-align: top;\n    }\n\n    .dataframe thead th {\n        text-align: right;\n    }\n</style>\n<table border=\"1\" class=\"dataframe\">\n  <thead>\n    <tr style=\"text-align: right;\">\n      <th></th>\n      <th>Commune</th>\n      <th>population_municipale</th>\n    </tr>\n  </thead>\n  <tbody>\n    <tr>\n      <th>0</th>\n      <td>Meknès</td>\n      <td>517,376.00</td>\n    </tr>\n    <tr>\n      <th>1</th>\n      <td>Oujda</td>\n      <td>492,873.00</td>\n    </tr>\n    <tr>\n      <th>2</th>\n      <td>Hay-Hassani</td>\n      <td>467,880.00</td>\n    </tr>\n    <tr>\n      <th>3</th>\n      <td>Sidi Moumen</td>\n      <td>452,863.00</td>\n    </tr>\n    <tr>\n      <th>4</th>\n      <td>Kénitra</td>\n      <td>423,890.00</td>\n    </tr>\n    <tr>\n      <th>5</th>\n      <td>Agadir</td>\n      <td>420,288.00</td>\n    </tr>\n    <tr>\n      <th>6</th>\n      <td>Ménara</td>\n      <td>409,829.00</td>\n    </tr>\n    <tr>\n      <th>7</th>\n      <td>Bni Makada</td>\n      <td>385,922.00</td>\n    </tr>\n    <tr>\n      <th>8</th>\n      <td>Tétouan</td>\n      <td>377,866.00</td>\n    </tr>\n    <tr>\n      <th>9</th>\n      <td>Aîn-Chock</td>\n      <td>376,772.00</td>\n    </tr>\n  </tbody>\n</table>\n</div>",
      "text/plain": "       Commune  population_municipale\n0       Meknès             517,376.00\n1        Oujda             492,873.00\n2  Hay-Hassani             467,880.00\n3  Sidi Moumen             452,863.00\n4      Kénitra             423,890.00\n5       Agadir             420,288.00\n6       Ménara             409,829.00\n7   Bni Makada             385,922.00\n8      Tétouan             377,866.00\n9    Aîn-Chock             376,772.00"
     },
     "execution_count": 13,
     "metadata": {},
     "output_type": "execute_result"
    }
   ],
   "source": [
    "# Question 05: Top 10 Populated Communes\n",
    "sql_query = \"\"\"\n",
    "    SELECT\n",
    "        communes.libelle AS 'Commune',\n",
    "        sum( observations_demographie.observation ) AS population_municipale \n",
    "    FROM\n",
    "        observations_demographie\n",
    "        JOIN communes ON communes.code = observations_demographie.commune_code \n",
    "    WHERE\n",
    "        observations_demographie.indicateur LIKE '%population munici%' \n",
    "    GROUP BY\n",
    "        communes.libelle \n",
    "    ORDER BY\n",
    "        population_municipale DESC \n",
    "        LIMIT 10;\n",
    "\"\"\"\n",
    "pd.read_sql(sql_query, mysql_cnx)"
   ]
  },
  {
   "cell_type": "code",
   "execution_count": 14,
   "metadata": {},
   "outputs": [
    {
     "data": {
      "text/html": "<div>\n<style scoped>\n    .dataframe tbody tr th:only-of-type {\n        vertical-align: middle;\n    }\n\n    .dataframe tbody tr th {\n        vertical-align: top;\n    }\n\n    .dataframe thead th {\n        text-align: right;\n    }\n</style>\n<table border=\"1\" class=\"dataframe\">\n  <thead>\n    <tr style=\"text-align: right;\">\n      <th></th>\n      <th>code</th>\n      <th>libelle</th>\n      <th>population</th>\n      <th>taux_chomage</th>\n      <th>taux_activite_feminin</th>\n      <th>taux_analphabetisme</th>\n    </tr>\n  </thead>\n  <tbody>\n  </tbody>\n</table>\n</div>",
      "text/plain": "Empty DataFrame\nColumns: [code, libelle, population, taux_chomage, taux_activite_feminin, taux_analphabetisme]\nIndex: []"
     },
     "execution_count": 14,
     "metadata": {},
     "output_type": "execute_result"
    }
   ],
   "source": [
    "# Question 06: Communes ou of Rabat and Casablanca Region having\n",
    "# Population greater than 50000, and Unemployment rate lower than 15%\n",
    "# Female Activity rate greater than 30% and Illiteracy rate lower than 20%\n",
    "sql_query = \"\"\"\n",
    "    SELECT\n",
    "        communes.code,\n",
    "        communes.libelle,\n",
    "        od_s.population,\n",
    "        oac_s.taux_chomage,\n",
    "        oaa_s.taux_activite_feminin,\n",
    "        oe_s.taux_analphabetisme\n",
    "    FROM\n",
    "        communes\n",
    "        JOIN provinces ON provinces.CODE = communes.province_code\n",
    "        JOIN regions ON regions.CODE = provinces.region_code\n",
    "        JOIN (\n",
    "                        SELECT commune_code, SUM( od.observation ) AS population \n",
    "                        FROM observations_demographie as od\n",
    "                        WHERE od.indicateur like '%population municipale%'\n",
    "                        GROUP BY commune_code \n",
    "                    ) AS od_s ON od_s.commune_code = communes.code\n",
    "        JOIN (\n",
    "                        SELECT commune_code, AVG( oac.observation ) AS taux_chomage\n",
    "                        FROM observations_activite as oac\n",
    "                        WHERE oac.indicateur like '%taux de chômage%'\n",
    "                        GROUP BY commune_code \n",
    "                    ) AS oac_s ON oac_s.commune_code = communes.code\n",
    "        JOIN (\n",
    "                        SELECT commune_code, AVG( oaa.observation ) AS taux_activite_feminin\n",
    "                        FROM observations_activite as oaa\n",
    "                        WHERE oaa.indicateur like \"%f_taux net d'activité%\"\n",
    "                        GROUP BY commune_code \n",
    "                    ) AS oaa_s ON oaa_s.commune_code = communes.code\n",
    "        JOIN (\n",
    "                        SELECT commune_code, AVG( oe.observation ) AS taux_analphabetisme\n",
    "                        FROM observations_education as oe\n",
    "                        WHERE oe.indicateur like \"%taux d'analphabétisme%\"\n",
    "                        GROUP BY commune_code \n",
    "                    ) AS oe_s ON oe_s.commune_code = communes.code\n",
    "    WHERE\n",
    "        regions.id NOT IN (\n",
    "        '04',\n",
    "        '06')\n",
    "    and od_s.population > 50000\n",
    "    and oac_s.taux_chomage < 15\n",
    "    and oaa_s.taux_activite_feminin > 30\n",
    "    and oe_s.taux_analphabetisme < 20\n",
    "\"\"\"\n",
    "pd.read_sql(sql_query, mysql_cnx)"
   ]
  },
  {
   "cell_type": "code",
   "execution_count": 15,
   "metadata": {},
   "outputs": [
    {
     "data": {
      "text/html": "<div>\n<style scoped>\n    .dataframe tbody tr th:only-of-type {\n        vertical-align: middle;\n    }\n\n    .dataframe tbody tr th {\n        vertical-align: top;\n    }\n\n    .dataframe thead th {\n        text-align: right;\n    }\n</style>\n<table border=\"1\" class=\"dataframe\">\n  <thead>\n    <tr style=\"text-align: right;\">\n      <th></th>\n      <th>CODE</th>\n      <th>libelle</th>\n      <th>taux_prevalence_handicap</th>\n    </tr>\n  </thead>\n  <tbody>\n    <tr>\n      <th>0</th>\n      <td>391</td>\n      <td>Oued Ed-Dahab</td>\n      <td>0.45</td>\n    </tr>\n  </tbody>\n</table>\n</div>",
      "text/plain": "  CODE        libelle  taux_prevalence_handicap\n0  391  Oued Ed-Dahab                      0.45"
     },
     "execution_count": 15,
     "metadata": {},
     "output_type": "execute_result"
    }
   ],
   "source": [
    "# Question 07: Province with the lowerest handicap prevalence rate\n",
    "sql_query = \"\"\"\n",
    "    SELECT\n",
    "        provinces.CODE,\n",
    "        provinces.libelle,\n",
    "        ROUND( AVG( observation ), 2 ) AS taux_prevalence_handicap \n",
    "    FROM\n",
    "        observations_handicap\n",
    "        JOIN communes ON observations_handicap.commune_code = communes.\n",
    "        CODE JOIN provinces ON communes.province_code = provinces.CODE \n",
    "    GROUP BY\n",
    "        provinces.CODE,\n",
    "        provinces.libelle \n",
    "    ORDER BY\n",
    "        taux_prevalence_handicap ASC \n",
    "        LIMIT 1;\n",
    "\"\"\"\n",
    "pd.read_sql(sql_query, mysql_cnx)"
   ]
  },
  {
   "cell_type": "code",
   "execution_count": 16,
   "metadata": {},
   "outputs": [
    {
     "data": {
      "text/html": "<div>\n<style scoped>\n    .dataframe tbody tr th:only-of-type {\n        vertical-align: middle;\n    }\n\n    .dataframe tbody tr th {\n        vertical-align: top;\n    }\n\n    .dataframe thead th {\n        text-align: right;\n    }\n</style>\n<table border=\"1\" class=\"dataframe\">\n  <thead>\n    <tr style=\"text-align: right;\">\n      <th></th>\n      <th>CODE</th>\n      <th>libelle</th>\n      <th>age_moyen_1er_mariage_masculin</th>\n      <th>age_moyen_1er_mariage_feminin</th>\n      <th>age_moyen_1er_mariage_urbain</th>\n      <th>age_moyen_1er_mariage_rural</th>\n    </tr>\n  </thead>\n  <tbody>\n    <tr>\n      <th>0</th>\n      <td>01</td>\n      <td>Tanger-Tetouan-Al Hoceima</td>\n      <td>17.42</td>\n      <td>15.00</td>\n      <td>9.53</td>\n      <td>22.89</td>\n    </tr>\n    <tr>\n      <th>1</th>\n      <td>02</td>\n      <td>Oriental</td>\n      <td>17.90</td>\n      <td>14.69</td>\n      <td>12.44</td>\n      <td>20.14</td>\n    </tr>\n    <tr>\n      <th>2</th>\n      <td>03</td>\n      <td>Fès-Meknès</td>\n      <td>17.36</td>\n      <td>14.25</td>\n      <td>11.61</td>\n      <td>20.01</td>\n    </tr>\n    <tr>\n      <th>3</th>\n      <td>04</td>\n      <td>Rabat-Salé-Kénitra</td>\n      <td>16.90</td>\n      <td>13.60</td>\n      <td>12.52</td>\n      <td>17.98</td>\n    </tr>\n    <tr>\n      <th>4</th>\n      <td>05</td>\n      <td>Béni Mellal-Khénifra</td>\n      <td>17.30</td>\n      <td>13.39</td>\n      <td>10.77</td>\n      <td>19.92</td>\n    </tr>\n    <tr>\n      <th>5</th>\n      <td>06</td>\n      <td>Casablanca-Settat</td>\n      <td>16.32</td>\n      <td>12.78</td>\n      <td>10.89</td>\n      <td>18.21</td>\n    </tr>\n    <tr>\n      <th>6</th>\n      <td>07</td>\n      <td>Marrakech-Safi</td>\n      <td>15.92</td>\n      <td>12.64</td>\n      <td>6.76</td>\n      <td>21.79</td>\n    </tr>\n    <tr>\n      <th>7</th>\n      <td>08</td>\n      <td>Drâa-Tafilalet</td>\n      <td>16.04</td>\n      <td>13.63</td>\n      <td>7.46</td>\n      <td>22.21</td>\n    </tr>\n    <tr>\n      <th>8</th>\n      <td>09</td>\n      <td>Souss-Massa</td>\n      <td>15.99</td>\n      <td>14.51</td>\n      <td>5.43</td>\n      <td>25.06</td>\n    </tr>\n    <tr>\n      <th>9</th>\n      <td>10</td>\n      <td>Guelmim-Oued Noun</td>\n      <td>17.12</td>\n      <td>14.85</td>\n      <td>6.40</td>\n      <td>25.57</td>\n    </tr>\n    <tr>\n      <th>10</th>\n      <td>11</td>\n      <td>Laayoune-Sakia El Hamra</td>\n      <td>16.56</td>\n      <td>13.81</td>\n      <td>7.04</td>\n      <td>23.32</td>\n    </tr>\n    <tr>\n      <th>11</th>\n      <td>12</td>\n      <td>Eddakhla-Oued Eddahab</td>\n      <td>11.33</td>\n      <td>6.47</td>\n      <td>2.10</td>\n      <td>15.71</td>\n    </tr>\n  </tbody>\n</table>\n</div>",
      "text/plain": "   CODE                    libelle  age_moyen_1er_mariage_masculin  \\\n0    01  Tanger-Tetouan-Al Hoceima                           17.42   \n1    02                   Oriental                           17.90   \n2    03                 Fès-Meknès                           17.36   \n3    04         Rabat-Salé-Kénitra                           16.90   \n4    05       Béni Mellal-Khénifra                           17.30   \n5    06          Casablanca-Settat                           16.32   \n6    07             Marrakech-Safi                           15.92   \n7    08             Drâa-Tafilalet                           16.04   \n8    09                Souss-Massa                           15.99   \n9    10          Guelmim-Oued Noun                           17.12   \n10   11    Laayoune-Sakia El Hamra                           16.56   \n11   12      Eddakhla-Oued Eddahab                           11.33   \n\n    age_moyen_1er_mariage_feminin  age_moyen_1er_mariage_urbain  \\\n0                           15.00                          9.53   \n1                           14.69                         12.44   \n2                           14.25                         11.61   \n3                           13.60                         12.52   \n4                           13.39                         10.77   \n5                           12.78                         10.89   \n6                           12.64                          6.76   \n7                           13.63                          7.46   \n8                           14.51                          5.43   \n9                           14.85                          6.40   \n10                          13.81                          7.04   \n11                           6.47                          2.10   \n\n    age_moyen_1er_mariage_rural  \n0                         22.89  \n1                         20.14  \n2                         20.01  \n3                         17.98  \n4                         19.92  \n5                         18.21  \n6                         21.79  \n7                         22.21  \n8                         25.06  \n9                         25.57  \n10                        23.32  \n11                        15.71  "
     },
     "execution_count": 16,
     "metadata": {},
     "output_type": "execute_result"
    }
   ],
   "source": [
    "# Question 08: Age Average of first meriage by gender and zones\n",
    "sql_query = \"\"\"\n",
    "    SELECT\n",
    "        regions.CODE,\n",
    "        regions.libelle ,\n",
    "        ROUND(odm_s.age_moyen_1er_mariage_masculin, 2) as age_moyen_1er_mariage_masculin,\n",
    "        ROUND(odf_s.age_moyen_1er_mariage_feminin, 2) as age_moyen_1er_mariage_feminin,\n",
    "        ROUND(odu_s.age_moyen_1er_mariage_urbain, 2) as age_moyen_1er_mariage_urbain,\n",
    "        ROUND(odr_s.age_moyen_1er_mariage_rural, 2) as age_moyen_1er_mariage_rural\n",
    "    FROM regions\n",
    "\tJOIN (\n",
    "\t\tSELECT\n",
    "\t\t\tprovinces.region_code,\n",
    "\t\t\tAVG( odm.observation ) age_moyen_1er_mariage_masculin\n",
    "\t\tFROM\n",
    "\t\t\tobservations_demographie AS odm\n",
    "\t\tJOIN communes on communes.code = odm.commune_code\n",
    "\t\tJOIN provinces on provinces.code = communes.province_code\n",
    "\t\tWHERE odm.indicateur LIKE '%m_âge moyen au premier mariage%'\n",
    "\t\tGROUP BY provinces.region_code\n",
    "\t) as odm_s on odm_s.region_code = regions.code\n",
    "\n",
    "\tJOIN (\n",
    "\t\tSELECT\n",
    "\t\t\tprovinces.region_code,\n",
    "\t\t\tAVG( odf.observation ) age_moyen_1er_mariage_feminin\n",
    "\t\tFROM\n",
    "\t\t\tobservations_demographie AS odf\n",
    "\t\tJOIN communes on communes.code = odf.commune_code\n",
    "\t\tJOIN provinces on provinces.code = communes.province_code\n",
    "\t\tWHERE odf.indicateur LIKE '%f_âge moyen au premier mariage%'\n",
    "\t\tGROUP BY provinces.region_code\n",
    "\t) as odf_s on odf_s.region_code = regions.code\n",
    "\n",
    "\tJOIN (\n",
    "\t\tSELECT\n",
    "\t\t\tprovinces.region_code,\n",
    "\t\t\tAVG( odu.observation ) age_moyen_1er_mariage_urbain\n",
    "\t\tFROM\n",
    "\t\t\tobservations_demographie AS odu\n",
    "\t\tJOIN communes on communes.code = odu.commune_code\n",
    "\t\tJOIN provinces on provinces.code = communes.province_code\n",
    "\t\tWHERE odu.indicateur LIKE '%u%_âge moyen au premier mariage%'\n",
    "\t\tGROUP BY provinces.region_code\n",
    "\t) as odu_s on odu_s.region_code = regions.code\n",
    "\n",
    "\tJOIN (\n",
    "\t\tSELECT\n",
    "\t\t\tprovinces.region_code,\n",
    "\t\t\tAVG( odr.observation ) age_moyen_1er_mariage_rural\n",
    "\t\tFROM\n",
    "\t\t\tobservations_demographie AS odr\n",
    "\t\tJOIN communes on communes.code = odr.commune_code\n",
    "\t\tJOIN provinces on provinces.code = communes.province_code\n",
    "\t\tWHERE odr.indicateur LIKE '%r%_âge moyen au premier mariage%'\n",
    "\t\tGROUP BY provinces.region_code\n",
    "\t) as odr_s on odr_s.region_code = regions.code\n",
    "\"\"\"\n",
    "pd.read_sql(sql_query, mysql_cnx)"
   ]
  },
  {
   "cell_type": "code",
   "execution_count": 17,
   "metadata": {},
   "outputs": [
    {
     "data": {
      "text/html": "<div>\n<style scoped>\n    .dataframe tbody tr th:only-of-type {\n        vertical-align: middle;\n    }\n\n    .dataframe tbody tr th {\n        vertical-align: top;\n    }\n\n    .dataframe thead th {\n        text-align: right;\n    }\n</style>\n<table border=\"1\" class=\"dataframe\">\n  <thead>\n    <tr style=\"text-align: right;\">\n      <th></th>\n      <th>Province</th>\n      <th>Commune</th>\n      <th>taux_analphabetisme</th>\n    </tr>\n  </thead>\n  <tbody>\n    <tr>\n      <th>0</th>\n      <td>Figuig</td>\n      <td>Talsint</td>\n      <td>54.53</td>\n    </tr>\n    <tr>\n      <th>1</th>\n      <td>Khénifra</td>\n      <td>Sidi Lamine</td>\n      <td>54.45</td>\n    </tr>\n    <tr>\n      <th>2</th>\n      <td>Khénifra</td>\n      <td>Aguelmous</td>\n      <td>54.38</td>\n    </tr>\n    <tr>\n      <th>3</th>\n      <td>Khénifra</td>\n      <td>Ouaoumana</td>\n      <td>52.58</td>\n    </tr>\n    <tr>\n      <th>4</th>\n      <td>Figuig</td>\n      <td>Tendrara</td>\n      <td>52.50</td>\n    </tr>\n    <tr>\n      <th>5</th>\n      <td>Béni Mellal</td>\n      <td>Aghbala</td>\n      <td>51.90</td>\n    </tr>\n    <tr>\n      <th>6</th>\n      <td>Ifrane</td>\n      <td>Oued Ifrane</td>\n      <td>51.72</td>\n    </tr>\n    <tr>\n      <th>7</th>\n      <td>Khémisset</td>\n      <td>Ait Yadine</td>\n      <td>51.65</td>\n    </tr>\n    <tr>\n      <th>8</th>\n      <td>Khénifra</td>\n      <td>Had Bouhssoussen</td>\n      <td>51.38</td>\n    </tr>\n    <tr>\n      <th>9</th>\n      <td>Midelt</td>\n      <td>Tounfite</td>\n      <td>50.28</td>\n    </tr>\n  </tbody>\n</table>\n</div>",
      "text/plain": "      Province           Commune  taux_analphabetisme\n0       Figuig           Talsint                54.53\n1     Khénifra       Sidi Lamine                54.45\n2     Khénifra         Aguelmous                54.38\n3     Khénifra         Ouaoumana                52.58\n4       Figuig          Tendrara                52.50\n5  Béni Mellal           Aghbala                51.90\n6       Ifrane       Oued Ifrane                51.72\n7    Khémisset        Ait Yadine                51.65\n8     Khénifra  Had Bouhssoussen                51.38\n9       Midelt          Tounfite                50.28"
     },
     "execution_count": 17,
     "metadata": {},
     "output_type": "execute_result"
    }
   ],
   "source": [
    "# Question 09: Provinces of The 10 Communes had the lowerest illiteracy rate\n",
    "sql_query = \"\"\"\n",
    "    SELECT\n",
    "        provinces.libelle AS Province,\n",
    "        communes.libelle AS Commune,\n",
    "        ROUND( AVG( observations_education.observation ), 2 ) AS taux_analphabetisme \n",
    "    FROM\n",
    "        observations_education\n",
    "        JOIN communes ON communes.CODE = observations_education.commune_code\n",
    "        JOIN provinces ON provinces.CODE = communes.province_code \n",
    "    WHERE\n",
    "        observations_education.indicateur LIKE \"%taux d'analphabétisme%\" \n",
    "    GROUP BY\n",
    "        communes.libelle,\n",
    "        provinces.libelle \n",
    "    ORDER BY\n",
    "        taux_analphabetisme DESC \n",
    "        LIMIT 10;\n",
    "\"\"\"\n",
    "pd.read_sql(sql_query, mysql_cnx)"
   ]
  },
  {
   "cell_type": "code",
   "execution_count": 18,
   "metadata": {},
   "outputs": [
    {
     "data": {
      "text/html": "<div>\n<style scoped>\n    .dataframe tbody tr th:only-of-type {\n        vertical-align: middle;\n    }\n\n    .dataframe tbody tr th {\n        vertical-align: top;\n    }\n\n    .dataframe thead th {\n        text-align: right;\n    }\n</style>\n<table border=\"1\" class=\"dataframe\">\n  <thead>\n    <tr style=\"text-align: right;\">\n      <th></th>\n      <th>region_code</th>\n      <th>region</th>\n      <th>niveau_etude</th>\n      <th>taux</th>\n    </tr>\n  </thead>\n  <tbody>\n    <tr>\n      <th>0</th>\n      <td>01</td>\n      <td>Tanger-Tetouan-Al Hoceima</td>\n      <td>niveau d'études_néant</td>\n      <td>24.49</td>\n    </tr>\n    <tr>\n      <th>1</th>\n      <td>02</td>\n      <td>Oriental</td>\n      <td>niveau d'études_néant</td>\n      <td>25.94</td>\n    </tr>\n    <tr>\n      <th>2</th>\n      <td>03</td>\n      <td>Fès-Meknès</td>\n      <td>niveau d'études_néant</td>\n      <td>26.05</td>\n    </tr>\n    <tr>\n      <th>3</th>\n      <td>04</td>\n      <td>Rabat-Salé-Kénitra</td>\n      <td>niveau d'études_néant</td>\n      <td>24.76</td>\n    </tr>\n    <tr>\n      <th>4</th>\n      <td>05</td>\n      <td>Béni Mellal-Khénifra</td>\n      <td>niveau d'études_néant</td>\n      <td>27.74</td>\n    </tr>\n    <tr>\n      <th>5</th>\n      <td>06</td>\n      <td>Casablanca-Settat</td>\n      <td>niveau d'études_néant</td>\n      <td>23.66</td>\n    </tr>\n    <tr>\n      <th>6</th>\n      <td>07</td>\n      <td>Marrakech-Safi</td>\n      <td>niveau d'études_néant</td>\n      <td>26.57</td>\n    </tr>\n    <tr>\n      <th>7</th>\n      <td>08</td>\n      <td>Drâa-Tafilalet</td>\n      <td>niveau d'études_néant</td>\n      <td>23.32</td>\n    </tr>\n    <tr>\n      <th>8</th>\n      <td>09</td>\n      <td>Souss-Massa</td>\n      <td>niveau d'études_néant</td>\n      <td>23.88</td>\n    </tr>\n    <tr>\n      <th>9</th>\n      <td>10</td>\n      <td>Guelmim-Oued Noun</td>\n      <td>niveau d'études_néant</td>\n      <td>24.36</td>\n    </tr>\n    <tr>\n      <th>10</th>\n      <td>11</td>\n      <td>Laayoune-Sakia El Hamra</td>\n      <td>niveau d'études_néant</td>\n      <td>22.90</td>\n    </tr>\n    <tr>\n      <th>11</th>\n      <td>12</td>\n      <td>Eddakhla-Oued Eddahab</td>\n      <td>niveau d'études_néant</td>\n      <td>11.28</td>\n    </tr>\n  </tbody>\n</table>\n</div>",
      "text/plain": "   region_code                     region           niveau_etude  taux\n0           01  Tanger-Tetouan-Al Hoceima  niveau d'études_néant 24.49\n1           02                   Oriental  niveau d'études_néant 25.94\n2           03                 Fès-Meknès  niveau d'études_néant 26.05\n3           04         Rabat-Salé-Kénitra  niveau d'études_néant 24.76\n4           05       Béni Mellal-Khénifra  niveau d'études_néant 27.74\n5           06          Casablanca-Settat  niveau d'études_néant 23.66\n6           07             Marrakech-Safi  niveau d'études_néant 26.57\n7           08             Drâa-Tafilalet  niveau d'études_néant 23.32\n8           09                Souss-Massa  niveau d'études_néant 23.88\n9           10          Guelmim-Oued Noun  niveau d'études_néant 24.36\n10          11    Laayoune-Sakia El Hamra  niveau d'études_néant 22.90\n11          12      Eddakhla-Oued Eddahab  niveau d'études_néant 11.28"
     },
     "execution_count": 18,
     "metadata": {},
     "output_type": "execute_result"
    }
   ],
   "source": [
    "# Question 10: Top school level for each region\n",
    "sql_query = \"\"\"\n",
    "    SELECT\n",
    "        rg_e1.region_code,\n",
    "        rg_e1.region,\n",
    "        rg_e1.niveau_etude,\n",
    "        rg_e1.taux \n",
    "    FROM\n",
    "        (\n",
    "        SELECT\n",
    "            regions.CODE AS region_code,\n",
    "            regions.libelle AS region,\n",
    "            SUBSTR( observations_education.indicateur, 5 ) AS niveau_etude,\n",
    "            ROUND( AVG( observations_education.observation ), 2 ) AS taux \n",
    "        FROM\n",
    "            observations_education\n",
    "            JOIN communes ON communes.CODE = observations_education.commune_code\n",
    "            JOIN provinces ON provinces.CODE = communes.province_code\n",
    "            JOIN regions ON regions.CODE = provinces.region_code \n",
    "        WHERE\n",
    "            observations_education.indicateur LIKE \"%niveau d'études%\" \n",
    "        GROUP BY\n",
    "            niveau_etude,\n",
    "            regions.CODE,\n",
    "            regions.libelle \n",
    "        ORDER BY\n",
    "            regions.CODE,\n",
    "            taux DESC \n",
    "        ) rg_e1\n",
    "    JOIN (\n",
    "        SELECT\n",
    "            rg_i.region_code,\n",
    "            MAX( rg_i.taux ) AS taux_max \n",
    "        FROM\n",
    "            (\n",
    "            SELECT\n",
    "                regions.CODE AS region_code,\n",
    "                regions.libelle AS region,\n",
    "                SUBSTR( observations_education.indicateur, 5 ) AS niveau_etude,\n",
    "                ROUND( AVG( observations_education.observation ), 2 ) AS taux \n",
    "            FROM\n",
    "                observations_education\n",
    "                JOIN communes ON communes.CODE = observations_education.commune_code\n",
    "                JOIN provinces ON provinces.CODE = communes.province_code\n",
    "                JOIN regions ON regions.CODE = provinces.region_code \n",
    "            WHERE\n",
    "                observations_education.indicateur LIKE \"%niveau d'études%\" \n",
    "            GROUP BY\n",
    "                niveau_etude,\n",
    "                regions.CODE,\n",
    "                regions.libelle \n",
    "            ORDER BY\n",
    "                regions.CODE,\n",
    "                taux DESC \n",
    "        ) AS rg_i \n",
    "    GROUP BY\n",
    "        rg_i.region_code \n",
    "    ) AS rg_e2 ON rg_e2.region_code = rg_e1.region_code \n",
    "    AND rg_e2.taux_max = rg_e1.taux\n",
    "\"\"\"\n",
    "pd.read_sql(sql_query, mysql_cnx)"
   ]
  },
  {
   "cell_type": "code",
   "execution_count": 19,
   "metadata": {},
   "outputs": [
    {
     "data": {
      "text/html": "<div>\n<style scoped>\n    .dataframe tbody tr th:only-of-type {\n        vertical-align: middle;\n    }\n\n    .dataframe tbody tr th {\n        vertical-align: top;\n    }\n\n    .dataframe thead th {\n        text-align: right;\n    }\n</style>\n<table border=\"1\" class=\"dataframe\">\n  <thead>\n    <tr style=\"text-align: right;\">\n      <th></th>\n      <th>code</th>\n      <th>libelle</th>\n      <th>tachalhit</th>\n      <th>tamazight</th>\n    </tr>\n  </thead>\n  <tbody>\n    <tr>\n      <th>0</th>\n      <td>001</td>\n      <td>Agadir Ida Ou Tanane</td>\n      <td>51.83</td>\n      <td>0.22</td>\n    </tr>\n    <tr>\n      <th>1</th>\n      <td>163</td>\n      <td>Chtouka Ait Baha</td>\n      <td>49.53</td>\n      <td>1.12</td>\n    </tr>\n  </tbody>\n</table>\n</div>",
      "text/plain": "  code               libelle  tachalhit  tamazight\n0  001  Agadir Ida Ou Tanane      51.83       0.22\n1  163      Chtouka Ait Baha      49.53       1.12"
     },
     "execution_count": 19,
     "metadata": {},
     "output_type": "execute_result"
    }
   ],
   "source": [
    "# Question 11: Provinces where Tachelhit being used more than Tamazaghit\n",
    "#              and both greater than 50\n",
    "sql_query = \"\"\"\n",
    "    SELECT\n",
    "        provinces.`code`,\n",
    "        provinces.libelle,\n",
    "        olc.tachalhit,\n",
    "        olz.tamazight \n",
    "    FROM\n",
    "        provinces\n",
    "        JOIN (\n",
    "        SELECT\n",
    "            communes.province_code,\n",
    "            ROUND( AVG( ol_tc.observation ), 2 ) tachalhit \n",
    "        FROM\n",
    "            observations_langue AS ol_tc\n",
    "            JOIN communes ON communes.CODE = ol_tc.commune_code \n",
    "        WHERE\n",
    "            ol_tc.indicateur LIKE '%tachelhit%' \n",
    "        GROUP BY\n",
    "            communes.province_code \n",
    "        ) AS olc ON olc.province_code = provinces.\n",
    "        CODE JOIN (\n",
    "        SELECT\n",
    "            communes.province_code,\n",
    "            ROUND( AVG( ol_tz.observation ), 2 ) tamazight \n",
    "        FROM\n",
    "            observations_langue AS ol_tz\n",
    "            JOIN communes ON communes.CODE = ol_tz.commune_code \n",
    "        WHERE\n",
    "            ol_tz.indicateur LIKE '%tamazight%' \n",
    "        GROUP BY\n",
    "            communes.province_code \n",
    "        ) AS olz ON olz.province_code = provinces.CODE \n",
    "    WHERE\n",
    "        olc.tachalhit + olz.tamazight > 50 \n",
    "        AND olc.tachalhit > olz.tamazight\n",
    "\"\"\"\n",
    "pd.read_sql(sql_query, mysql_cnx)"
   ]
  },
  {
   "cell_type": "code",
   "execution_count": 20,
   "metadata": {},
   "outputs": [
    {
     "data": {
      "text/html": "<div>\n<style scoped>\n    .dataframe tbody tr th:only-of-type {\n        vertical-align: middle;\n    }\n\n    .dataframe tbody tr th {\n        vertical-align: top;\n    }\n\n    .dataframe thead th {\n        text-align: right;\n    }\n</style>\n<table border=\"1\" class=\"dataframe\">\n  <thead>\n    <tr style=\"text-align: right;\">\n      <th></th>\n      <th>Nombre des Provinces</th>\n    </tr>\n  </thead>\n  <tbody>\n    <tr>\n      <th>0</th>\n      <td>36</td>\n    </tr>\n  </tbody>\n</table>\n</div>",
      "text/plain": "   Nombre des Provinces\n0                    36"
     },
     "execution_count": 20,
     "metadata": {},
     "output_type": "execute_result"
    }
   ],
   "source": [
    "# Question 12: Nomber of Provinces uses Satellite dish more than Fridge\n",
    "sql_query = \"\"\"\n",
    "    SELECT\n",
    "        COUNT(*) as 'Nombre des Provinces'\n",
    "    FROM\n",
    "        provinces\n",
    "        JOIN (\n",
    "            SELECT\n",
    "                communes.province_code,\n",
    "                ROUND( AVG( ol_p.observation ), 2 ) parabole \n",
    "            FROM\n",
    "                observations_habitat AS ol_p\n",
    "                JOIN communes ON communes.CODE = ol_p.commune_code \n",
    "            WHERE\n",
    "                ol_p.indicateur LIKE '%equipements ménagers_parabole%' \n",
    "            GROUP BY\n",
    "            communes.province_code \n",
    "        ) AS uh_p ON uh_p.province_code = provinces.CODE\n",
    "        \n",
    "        JOIN (\n",
    "            SELECT\n",
    "                communes.province_code,\n",
    "                ROUND( AVG( ol_r.observation ), 2 ) refrigerateur\n",
    "            FROM\n",
    "                observations_habitat AS ol_r\n",
    "                JOIN communes ON communes.CODE = ol_r.commune_code \n",
    "            WHERE\n",
    "                ol_r.indicateur LIKE '%equipements ménagers_réfrigérateur%' \n",
    "            GROUP BY\n",
    "            communes.province_code \n",
    "        ) AS uh_r ON uh_r.province_code = provinces.CODE\n",
    "where uh_p.parabole > uh_r.refrigerateur\n",
    "\"\"\"\n",
    "pd.read_sql(sql_query, mysql_cnx)"
   ]
  },
  {
   "cell_type": "code",
   "execution_count": null,
   "metadata": {},
   "outputs": [],
   "source": []
  }
 ]
}