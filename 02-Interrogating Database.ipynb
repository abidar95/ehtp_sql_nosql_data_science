{
 "nbformat": 4,
 "nbformat_minor": 2,
 "metadata": {
  "language_info": {
   "name": "python",
   "codemirror_mode": {
    "name": "ipython",
    "version": 3
   },
   "version": "3.7.6-final"
  },
  "orig_nbformat": 2,
  "file_extension": ".py",
  "mimetype": "text/x-python",
  "name": "python",
  "npconvert_exporter": "python",
  "pygments_lexer": "ipython3",
  "version": 3,
  "kernelspec": {
   "name": "python37664bit11faddc277304651ac73070c2cd97448",
   "display_name": "Python 3.7.6 64-bit"
  }
 },
 "cells": [
  {
   "cell_type": "markdown",
   "execution_count": null,
   "metadata": {},
   "outputs": [],
   "source": [
    "BD SQL & NOSQL Project\n",
    "======================\n",
    "### Project based on data from RGPH (recensement général de la population et de l’habitat) in 2014\n",
    "### DATA SOURCE: [RGPH Website](http://rgphentableaux.hcp.ma)"
   ]
  },
  {
   "cell_type": "markdown",
   "execution_count": null,
   "metadata": {},
   "outputs": [],
   "source": [
    "## Part 02: Interrogating MySQL Database"
   ]
  },
  {
   "cell_type": "code",
   "execution_count": 1,
   "metadata": {},
   "outputs": [],
   "source": [
    "# Import libraries\n",
    "import pymysql\n",
    "import pandas as pd\n",
    "pd.options.display.float_format = '{:,.2f}'.format"
   ]
  },
  {
   "cell_type": "code",
   "execution_count": 2,
   "metadata": {},
   "outputs": [],
   "source": [
    "#Database Connection\n",
    "DB_PARAMS = {\n",
    "    'host':'localhost',\n",
    "    'port':3306,\n",
    "    'user':'root',\n",
    "    'password':'ehtp',\n",
    "    'database':'ehtp_rgph',\n",
    "}\n",
    "mysql_cnx = pymysql.connect(**DB_PARAMS)\n"
   ]
  },
  {
   "cell_type": "code",
   "execution_count": 4,
   "metadata": {},
   "outputs": [
    {
     "data": {
      "text/html": "<div>\n<style scoped>\n    .dataframe tbody tr th:only-of-type {\n        vertical-align: middle;\n    }\n\n    .dataframe tbody tr th {\n        vertical-align: top;\n    }\n\n    .dataframe thead th {\n        text-align: right;\n    }\n</style>\n<table border=\"1\" class=\"dataframe\">\n  <thead>\n    <tr style=\"text-align: right;\">\n      <th></th>\n      <th>Pays</th>\n      <th>Population municipale</th>\n    </tr>\n  </thead>\n  <tbody>\n    <tr>\n      <th>0</th>\n      <td>maroc</td>\n      <td>34,737,845.00</td>\n    </tr>\n  </tbody>\n</table>\n</div>",
      "text/plain": "    Pays  Population municipale\n0  maroc          34,737,845.00"
     },
     "execution_count": 4,
     "metadata": {},
     "output_type": "execute_result"
    }
   ],
   "source": [
    "\n",
    "sql_query = \"\"\"\n",
    "    SELECT\n",
    "        pays.libelle AS 'Pays',\n",
    "        sum( observations_demographie.observation ) AS 'Population municipale' \n",
    "    FROM\n",
    "        observations_demographie\n",
    "        JOIN communes ON communes.code = observations_demographie.commune_code\n",
    "        JOIN provinces ON provinces.code = communes.province_code\n",
    "        JOIN regions ON regions.code = provinces.region_code\n",
    "        JOIN pays ON pays.code = regions.pays_code \n",
    "    WHERE\n",
    "        observations_demographie.indicateur LIKE '%population munici%' \n",
    "    GROUP BY\n",
    "        pays.libelle\n",
    "\"\"\"\n",
    "pd.read_sql(sql_query, mysql_cnx)"
   ]
  },
  {
   "cell_type": "code",
   "execution_count": 5,
   "metadata": {},
   "outputs": [
    {
     "data": {
      "text/html": "<div>\n<style scoped>\n    .dataframe tbody tr th:only-of-type {\n        vertical-align: middle;\n    }\n\n    .dataframe tbody tr th {\n        vertical-align: top;\n    }\n\n    .dataframe thead th {\n        text-align: right;\n    }\n</style>\n<table border=\"1\" class=\"dataframe\">\n  <thead>\n    <tr style=\"text-align: right;\">\n      <th></th>\n      <th>Commune</th>\n      <th>population_municipale</th>\n    </tr>\n  </thead>\n  <tbody>\n    <tr>\n      <th>0</th>\n      <td>Meknès</td>\n      <td>517,376.00</td>\n    </tr>\n    <tr>\n      <th>1</th>\n      <td>Oujda</td>\n      <td>492,873.00</td>\n    </tr>\n    <tr>\n      <th>2</th>\n      <td>Hay-Hassani</td>\n      <td>467,880.00</td>\n    </tr>\n    <tr>\n      <th>3</th>\n      <td>Sidi Moumen</td>\n      <td>452,863.00</td>\n    </tr>\n    <tr>\n      <th>4</th>\n      <td>Kénitra</td>\n      <td>423,890.00</td>\n    </tr>\n    <tr>\n      <th>5</th>\n      <td>Agadir</td>\n      <td>420,288.00</td>\n    </tr>\n    <tr>\n      <th>6</th>\n      <td>Ménara</td>\n      <td>409,829.00</td>\n    </tr>\n    <tr>\n      <th>7</th>\n      <td>Bni Makada</td>\n      <td>385,922.00</td>\n    </tr>\n    <tr>\n      <th>8</th>\n      <td>Tétouan</td>\n      <td>377,866.00</td>\n    </tr>\n    <tr>\n      <th>9</th>\n      <td>Aîn-Chock</td>\n      <td>376,772.00</td>\n    </tr>\n  </tbody>\n</table>\n</div>",
      "text/plain": "       Commune  population_municipale\n0       Meknès             517,376.00\n1        Oujda             492,873.00\n2  Hay-Hassani             467,880.00\n3  Sidi Moumen             452,863.00\n4      Kénitra             423,890.00\n5       Agadir             420,288.00\n6       Ménara             409,829.00\n7   Bni Makada             385,922.00\n8      Tétouan             377,866.00\n9    Aîn-Chock             376,772.00"
     },
     "execution_count": 5,
     "metadata": {},
     "output_type": "execute_result"
    }
   ],
   "source": [
    "# Question 05: Top 10 Populated Communes\n",
    "sql_query = \"\"\"\n",
    "    SELECT\n",
    "        communes.libelle AS 'Commune',\n",
    "        sum( observations_demographie.observation ) AS population_municipale \n",
    "    FROM\n",
    "        observations_demographie\n",
    "        JOIN communes ON communes.code = observations_demographie.commune_code \n",
    "    WHERE\n",
    "        observations_demographie.indicateur LIKE '%population munici%' \n",
    "    GROUP BY\n",
    "        communes.libelle \n",
    "    ORDER BY\n",
    "        population_municipale DESC \n",
    "        LIMIT 10;\n",
    "\"\"\"\n",
    "pd.read_sql(sql_query, mysql_cnx)"
   ]
  },
  {
   "cell_type": "code",
   "execution_count": 6,
   "metadata": {},
   "outputs": [
    {
     "data": {
      "text/html": "<div>\n<style scoped>\n    .dataframe tbody tr th:only-of-type {\n        vertical-align: middle;\n    }\n\n    .dataframe tbody tr th {\n        vertical-align: top;\n    }\n\n    .dataframe thead th {\n        text-align: right;\n    }\n</style>\n<table border=\"1\" class=\"dataframe\">\n  <thead>\n    <tr style=\"text-align: right;\">\n      <th></th>\n      <th>code</th>\n      <th>libelle</th>\n      <th>population</th>\n      <th>taux_chomage</th>\n      <th>taux_activite_feminin</th>\n      <th>taux_analphabetisme</th>\n    </tr>\n  </thead>\n  <tbody>\n  </tbody>\n</table>\n</div>",
      "text/plain": "Empty DataFrame\nColumns: [code, libelle, population, taux_chomage, taux_activite_feminin, taux_analphabetisme]\nIndex: []"
     },
     "execution_count": 6,
     "metadata": {},
     "output_type": "execute_result"
    }
   ],
   "source": [
    "# Question 06: Communes ou of Rabat and Casablanca Region having\n",
    "# Population greater than 50000, and Unemployment rate lower than 15%\n",
    "# Female Activity rate greater than 30% and Illiteracy rate lower than 20%\n",
    "sql_query = \"\"\"\n",
    "    SELECT\n",
    "        communes.code,\n",
    "        communes.libelle,\n",
    "        od_s.population,\n",
    "        oac_s.taux_chomage,\n",
    "        oaa_s.taux_activite_feminin,\n",
    "        oe_s.taux_analphabetisme\n",
    "    FROM\n",
    "        communes\n",
    "        JOIN provinces ON provinces.CODE = communes.province_code\n",
    "        JOIN regions ON regions.CODE = provinces.region_code\n",
    "        JOIN (\n",
    "                        SELECT commune_code, SUM( od.observation ) AS population \n",
    "                        FROM observations_demographie as od\n",
    "                        WHERE od.indicateur like '%population municipale%'\n",
    "                        GROUP BY commune_code \n",
    "                    ) AS od_s ON od_s.commune_code = communes.code\n",
    "        JOIN (\n",
    "                        SELECT commune_code, AVG( oac.observation ) AS taux_chomage\n",
    "                        FROM observations_activite as oac\n",
    "                        WHERE oac.indicateur like '%taux de chômage%'\n",
    "                        GROUP BY commune_code \n",
    "                    ) AS oac_s ON oac_s.commune_code = communes.code\n",
    "        JOIN (\n",
    "                        SELECT commune_code, AVG( oaa.observation ) AS taux_activite_feminin\n",
    "                        FROM observations_activite as oaa\n",
    "                        WHERE oaa.indicateur like \"%f_taux net d'activité%\"\n",
    "                        GROUP BY commune_code \n",
    "                    ) AS oaa_s ON oaa_s.commune_code = communes.code\n",
    "        JOIN (\n",
    "                        SELECT commune_code, AVG( oe.observation ) AS taux_analphabetisme\n",
    "                        FROM observations_education as oe\n",
    "                        WHERE oe.indicateur like \"%taux d'analphabétisme%\"\n",
    "                        GROUP BY commune_code \n",
    "                    ) AS oe_s ON oe_s.commune_code = communes.code\n",
    "    WHERE\n",
    "        regions.id NOT IN (\n",
    "        '04',\n",
    "        '06')\n",
    "    and od_s.population > 50000\n",
    "    and oac_s.taux_chomage < 15\n",
    "    and oaa_s.taux_activite_feminin > 30\n",
    "    and oe_s.taux_analphabetisme < 20\n",
    "\"\"\"\n",
    "pd.read_sql(sql_query, mysql_cnx)"
   ]
  }
 ]
}