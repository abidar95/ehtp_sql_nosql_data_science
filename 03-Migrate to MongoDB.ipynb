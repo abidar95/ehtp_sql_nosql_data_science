{
 "nbformat": 4,
 "nbformat_minor": 2,
 "metadata": {
  "language_info": {
   "name": "python",
   "codemirror_mode": {
    "name": "ipython",
    "version": 3
   },
   "version": "3.7.6-final"
  },
  "orig_nbformat": 2,
  "file_extension": ".py",
  "mimetype": "text/x-python",
  "name": "python",
  "npconvert_exporter": "python",
  "pygments_lexer": "ipython3",
  "version": 3,
  "kernelspec": {
   "name": "python37664bit11faddc277304651ac73070c2cd97448",
   "display_name": "Python 3.7.6 64-bit"
  }
 },
 "cells": [
  {
   "cell_type": "markdown",
   "execution_count": null,
   "metadata": {},
   "outputs": [],
   "source": [
    "BD SQL & NOSQL Project\n",
    "======================\n",
    "### Project based on data from RGPH (recensement général de la population et de l’habitat) in 2014\n",
    "### DATA SOURCE: [RGPH Website](http://rgphentableaux.hcp.ma)"
   ]
  },
  {
   "cell_type": "markdown",
   "execution_count": null,
   "metadata": {},
   "outputs": [],
   "source": [
    "## Part 03: Migrate From MySQL to MongoDB Database"
   ]
  },
  {
   "cell_type": "code",
   "execution_count": null,
   "metadata": {},
   "outputs": [],
   "source": [
    "# Install dependencies\n",
    "!pip install pymysql pymongo"
   ]
  },
  {
   "cell_type": "code",
   "execution_count": null,
   "metadata": {},
   "outputs": [],
   "source": [
    "# Import libraries\n",
    "import pymysql\n",
    "import pymongo"
   ]
  },
  {
   "cell_type": "markdown",
   "execution_count": null,
   "metadata": {},
   "outputs": [],
   "source": [
    "### Question 01: MongoDB Database Conception\n",
    "![MongoDB DB Diagram](https://i.imgur.com/jVPgLKR.png)"
   ]
  },
  {
   "cell_type": "code",
   "execution_count": null,
   "metadata": {},
   "outputs": [],
   "source": [
    "#Define Databases Connections\n",
    "\n",
    "# MySql Database Connection\n",
    "MYSQL_PARAMS = {\n",
    "    'host': 'localhost',\n",
    "    'port': 3306,\n",
    "    'user': 'root',\n",
    "    'password': 'ehtp',\n",
    "    'charset': 'utf8mb4',\n",
    "    'cursorclass': pymysql.cursors.DictCursor\n",
    "}\n",
    "mysql_cnx = pymysql.connect(**MYSQL_PARAMS)\n",
    "mysql_crs = mysql_cnx.cursor()\n",
    "\n",
    "# MongoDB Database Connection\n",
    "MONGODB_PARAMS = {\n",
    "    'host': 'localhost',\n",
    "    'port': 27017,\n",
    "    'username': 'ehtp',\n",
    "    'password': 'ehtp'\n",
    "}\n",
    "mongodb_clt = pymongo.MongoClient(**MONGODB_PARAMS)\n"
   ]
  },
  {
   "cell_type": "code",
   "execution_count": null,
   "metadata": {},
   "outputs": [],
   "source": [
    "#Creating and Filling Tables\n",
    "#Fetch tables witch\n",
    "sql_query = \"\"\"\n",
    "    SELECT table_name\n",
    "    FROM information_schema.tables\n",
    "    WHERE table_schema = 'ehtp_rgph'\n",
    "    AND table_name like 'observation%'\n",
    "    ORDER BY table_rows\n",
    "\"\"\"\n",
    "mysql_crs.execute(sql_query)\n",
    "data_tables = mysql_crs.fetchall()\n",
    "\n",
    "sql_query = \"USE ehtp_rgph;\"\n",
    "mysql_crs.execute(sql_query)\n",
    "\n",
    "\n",
    "mongodb_clt.drop_database('ehtp_rgph_01')\n",
    "mongodb_db = mongodb_clt.ehtp_rgph_01\n",
    "\n",
    "\n",
    "sql_query = \"\"\"\n",
    "    SELECT\n",
    "    pays.CODE code_pays,\n",
    "    pays.libelle pays,\n",
    "    regions.CODE code_region,\n",
    "    regions.libelle region,\n",
    "    provinces.`code` code_province,\n",
    "    provinces.libelle province,\n",
    "    communes.CODE code_commune,\n",
    "    communes.libelle commune\n",
    "    FROM communes\n",
    "    JOIN provinces ON provinces.CODE = communes.province_code\n",
    "    JOIN regions ON regions.CODE = provinces.region_code\n",
    "    JOIN pays ON pays.`code` = regions.pays_code\n",
    "\"\"\"\n",
    "mysql_crs.execute(sql_query)\n",
    "communes = mysql_crs.fetchall()\n",
    "\n",
    "\n",
    "for commune in communes:\n",
    "    code_commune = commune['code_commune']\n",
    "    commune_to_mongo = {\n",
    "        'pays': {'code': commune['code_pays'], 'libelle': commune['pays']},\n",
    "        'region': {'code': commune['code_region'], 'libelle': commune['region']},\n",
    "        'province': {'code': commune['code_province'], 'libelle': commune['province']},\n",
    "        'code': code_commune,\n",
    "        'libelle': commune['commune'],\n",
    "    }\n",
    "\n",
    "    for table in data_tables:\n",
    "        table = table['table_name']\n",
    "        sql_query = f\"\"\"\n",
    "            SELECT\n",
    "            indicateur,\n",
    "            observation\n",
    "            FROM {table}\n",
    "            WHERE commune_code = '{code_commune}'\n",
    "        \"\"\"\n",
    "        mysql_crs.execute(sql_query)\n",
    "        commune_to_mongo[table] = mysql_crs.fetchall()\n",
    "\n",
    "    mongodb_db.communes.insert_one(commune_to_mongo)"
   ]
  }
 ]
}