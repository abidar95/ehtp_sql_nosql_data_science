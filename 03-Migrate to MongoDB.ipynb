{
 "nbformat": 4,
 "nbformat_minor": 2,
 "metadata": {
  "language_info": {
   "name": "python",
   "codemirror_mode": {
    "name": "ipython",
    "version": 3
   },
   "version": "3.7.6-final"
  },
  "orig_nbformat": 2,
  "file_extension": ".py",
  "mimetype": "text/x-python",
  "name": "python",
  "npconvert_exporter": "python",
  "pygments_lexer": "ipython3",
  "version": 3,
  "kernelspec": {
   "name": "python37664bit11faddc277304651ac73070c2cd97448",
   "display_name": "Python 3.7.6 64-bit"
  }
 },
 "cells": [
  {
   "cell_type": "markdown",
   "execution_count": null,
   "metadata": {},
   "outputs": [],
   "source": [
    "BD SQL & NOSQL Project\n",
    "======================\n",
    "### Project based on data from RGPH (recensement général de la population et de l’habitat) in 2014\n",
    "### DATA SOURCE: [RGPH Website](http://rgphentableaux.hcp.ma)"
   ]
  },
  {
   "cell_type": "markdown",
   "execution_count": null,
   "metadata": {},
   "outputs": [],
   "source": [
    "## Part 03: Migrate From MySQL to MongoDB Database"
   ]
  },
  {
   "source": [
    "# Install dependencies\n",
    "!pip install pymysql pymongo"
   ],
   "cell_type": "code",
   "outputs": [],
   "metadata": {},
   "execution_count": null
  },
  {
   "cell_type": "code",
   "execution_count": null,
   "metadata": {},
   "outputs": [],
   "source": [
    "# Import libraries\n",
    "import pymysql\n",
    "import pymongo"
   ]
  },
  {
   "cell_type": "markdown",
   "execution_count": null,
   "metadata": {},
   "outputs": [],
   "source": [
    "### Question 01: MongoDB Database Conception\n",
    "![MongoDB DB Diagram](https://i.imgur.com/jVPgLKR.png)"
   ]
  },
  {
   "cell_type": "code",
   "execution_count": null,
   "metadata": {},
   "outputs": [],
   "source": [
    "#Define Databases Connections\n",
    "\n",
    "# MySql Database Connection\n",
    "MYSQL_PARAMS = {\n",
    "    'host': 'localhost',\n",
    "    'port': 3306,\n",
    "    'user': 'root',\n",
    "    'password': 'ehtp',\n",
    "    'charset': 'utf8mb4',\n",
    "    'cursorclass': pymysql.cursors.DictCursor\n",
    "}\n",
    "mysql_cnx = pymysql.connect(**MYSQL_PARAMS)\n",
    "mysql_crs = mysql_cnx.cursor()\n",
    "\n",
    "# MongoDB Database Connection\n",
    "MONGODB_PARAMS = {\n",
    "    'host': 'localhost',\n",
    "    'port': 27017,\n",
    "    'username': 'ehtp',\n",
    "    'password': 'ehtp'\n",
    "}\n",
    "mongodb_clt = pymongo.MongoClient(**MONGODB_PARAMS)\n"
   ]
  },
  {
   "cell_type": "code",
   "execution_count": null,
   "metadata": {},
   "outputs": [],
   "source": [
    "#Creating and Filling Tables\n",
    "\n",
    "sql_query = \"\"\"\n",
    "    SELECT table_name\n",
    "    FROM information_schema.tables\n",
    "    WHERE table_schema = 'ehtp_rgph'\n",
    "    ORDER BY table_rows\n",
    "\"\"\"\n",
    "mysql_crs.execute(sql_query)\n",
    "mysql_tables = mysql_crs.fetchall()\n",
    "\n",
    "sql_query = \"USE ehtp_rgph;\"\n",
    "mysql_crs.execute(sql_query)\n",
    "\n",
    "mongodb_clt.drop_database('ehtp_rgph')\n",
    "mongodb_db = mongodb_clt.ehtp_rgph\n",
    "for table in mysql_tables:\n",
    "    sql_query = f\"SELECT * FROM {table['table_name']}\"\n",
    "    mysql_crs.execute(sql_query)\n",
    "    table_data = []\n",
    "    for row in mysql_crs.fetchall():\n",
    "        row['_id'] = row.pop('code', None) or row.pop('id')\n",
    "        row.pop('id', None)\n",
    "        table_data.append(row)\n",
    "\n",
    "    mongodb_table = mongodb_db[table['table_name']]\n",
    "\n",
    "    new_result = mongodb_table.insert_many(\n",
    "        table_data\n",
    "    )"
   ]
  }
 ]
}